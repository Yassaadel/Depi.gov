import random

# Base class for game objects
class GameObject:
    def __init__(self, name):
        self.name = name

    def __str__(self):
        return self.name

    def compare(self, other):
        pass

# Subclasses for Rock, Paper, and Scissors
class Rock(GameObject):
    def __init__(self):
        super().__init__("Rock")

    def compare(self, other):
        if isinstance(other, Rock):
            return "It's a tie!"
        elif isinstance(other, Paper):
            return "You lose! Paper covers Rock."
        elif isinstance(other, Scissors):
            return "You win! Rock crushes Scissors."

class Paper(GameObject):
    def __init__(self):
        super().__init__("Paper")

    def compare(self, other):
        if isinstance(other, Rock):
            return "You win! Paper covers Rock."
        elif isinstance(other, Paper):
            return "It's a tie!"
        elif isinstance(other, Scissors):
            return "You lose! Scissors cut Paper."

class Scissors(GameObject):
    def __init__(self):
        super().__init__("Scissors")

    def compare(self, other):
        if isinstance(other, Rock):
            return "You lose! Rock crushes Scissors."
        elif isinstance(other, Paper):
            return "You win! Scissors cut Paper."
        elif isinstance(other, Scissors):
            return "It's a tie!"

# Player class to handle player choices
class Player:
    def __init__(self, name):
        self.name = name

    def choose(self):
        choice = input(f"{self.name}, please choose (rock, paper, scissors): ").lower()
        if choice == "rock":
            return Rock()
        elif choice == "paper":
            return Paper()
        elif choice == "scissors":
            return Scissors()
        else:
            print("Invalid choice. Try again.")
            return self.choose()

# Game class to manage the game flow
class Game:
    def __init__(self):
        self.player = Player("Player")
        self.choices = [Rock(), Paper(), Scissors()]

    def get_computer_choice(self):
        return random.choice(self.choices)

    def play_round(self):
        player_choice = self.player.choose()
        computer_choice = self.get_computer_choice()
        print(f"Computer chose {computer_choice}")
        result = player_choice.compare(computer_choice)
        print(result)

    def start(self):
        while True:
            self.play_round()
            again = input("Do you want to play again? (yes/no): ").lower()
            if again != "yes":
                break
        print("Thank you for playing!")

# Start the game
if __name__ == "__main__":
    game = Game()
    game.start()
