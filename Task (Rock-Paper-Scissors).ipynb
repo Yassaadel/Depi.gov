{
  "nbformat": 4,
  "nbformat_minor": 0,
  "metadata": {
    "colab": {
      "provenance": [],
      "authorship_tag": "ABX9TyOLBX/FP35Rb1YchfVyidYO",
      "include_colab_link": true
    },
    "kernelspec": {
      "name": "python3",
      "display_name": "Python 3"
    },
    "language_info": {
      "name": "python"
    }
  },
  "cells": [
    {
      "cell_type": "markdown",
      "metadata": {
        "id": "view-in-github",
        "colab_type": "text"
      },
      "source": [
        "<a href=\"https://colab.research.google.com/github/Yassaadel/Depi.gov/blob/master/Task%20(Rock-Paper-Scissors).ipynb\" target=\"_parent\"><img src=\"https://colab.research.google.com/assets/colab-badge.svg\" alt=\"Open In Colab\"/></a>"
      ]
    },
    {
      "cell_type": "code",
      "execution_count": 1,
      "metadata": {
        "colab": {
          "base_uri": "https://localhost:8080/"
        },
        "id": "ZVtCIWeLt1nu",
        "outputId": "db25ba8f-656f-48b1-b86f-374e8387514b"
      },
      "outputs": [
        {
          "output_type": "stream",
          "name": "stdout",
          "text": [
            "Player, please choose (rock, paper, scissors): rock\n",
            "Computer chose Paper\n",
            "You lose! Paper covers Rock.\n",
            "Do you want to play again? (yes/no): yes\n",
            "Player, please choose (rock, paper, scissors): paper\n",
            "Computer chose Rock\n",
            "You win! Paper covers Rock.\n",
            "Do you want to play again? (yes/no): no\n",
            "Thank you for playing!\n"
          ]
        }
      ],
      "source": [
        "import random\n",
        "\n",
        "# Base class for game objects\n",
        "class GameObject:\n",
        "    def __init__(self, name):\n",
        "        self.name = name\n",
        "\n",
        "    def __str__(self):\n",
        "        return self.name\n",
        "\n",
        "    def compare(self, other):\n",
        "        pass\n",
        "\n",
        "# Subclasses for Rock, Paper, and Scissors\n",
        "class Rock(GameObject):\n",
        "    def __init__(self):\n",
        "        super().__init__(\"Rock\")\n",
        "\n",
        "    def compare(self, other):\n",
        "        if isinstance(other, Rock):\n",
        "            return \"It's a tie!\"\n",
        "        elif isinstance(other, Paper):\n",
        "            return \"You lose! Paper covers Rock.\"\n",
        "        elif isinstance(other, Scissors):\n",
        "            return \"You win! Rock crushes Scissors.\"\n",
        "\n",
        "class Paper(GameObject):\n",
        "    def __init__(self):\n",
        "        super().__init__(\"Paper\")\n",
        "\n",
        "    def compare(self, other):\n",
        "        if isinstance(other, Rock):\n",
        "            return \"You win! Paper covers Rock.\"\n",
        "        elif isinstance(other, Paper):\n",
        "            return \"It's a tie!\"\n",
        "        elif isinstance(other, Scissors):\n",
        "            return \"You lose! Scissors cut Paper.\"\n",
        "\n",
        "class Scissors(GameObject):\n",
        "    def __init__(self):\n",
        "        super().__init__(\"Scissors\")\n",
        "\n",
        "    def compare(self, other):\n",
        "        if isinstance(other, Rock):\n",
        "            return \"You lose! Rock crushes Scissors.\"\n",
        "        elif isinstance(other, Paper):\n",
        "            return \"You win! Scissors cut Paper.\"\n",
        "        elif isinstance(other, Scissors):\n",
        "            return \"It's a tie!\"\n",
        "\n",
        "# Player class to handle player choices\n",
        "class Player:\n",
        "    def __init__(self, name):\n",
        "        self.name = name\n",
        "\n",
        "    def choose(self):\n",
        "        choice = input(f\"{self.name}, please choose (rock, paper, scissors): \").lower()\n",
        "        if choice == \"rock\":\n",
        "            return Rock()\n",
        "        elif choice == \"paper\":\n",
        "            return Paper()\n",
        "        elif choice == \"scissors\":\n",
        "            return Scissors()\n",
        "        else:\n",
        "            print(\"Invalid choice. Try again.\")\n",
        "            return self.choose()\n",
        "\n",
        "# Game class to manage the game flow\n",
        "class Game:\n",
        "    def __init__(self):\n",
        "        self.player = Player(\"Player\")\n",
        "        self.choices = [Rock(), Paper(), Scissors()]\n",
        "\n",
        "    def get_computer_choice(self):\n",
        "        return random.choice(self.choices)\n",
        "\n",
        "    def play_round(self):\n",
        "        player_choice = self.player.choose()\n",
        "        computer_choice = self.get_computer_choice()\n",
        "        print(f\"Computer chose {computer_choice}\")\n",
        "        result = player_choice.compare(computer_choice)\n",
        "        print(result)\n",
        "\n",
        "    def start(self):\n",
        "        while True:\n",
        "            self.play_round()\n",
        "            again = input(\"Do you want to play again? (yes/no): \").lower()\n",
        "            if again != \"yes\":\n",
        "                break\n",
        "        print(\"Thank you for playing!\")\n",
        "\n",
        "# Start the game\n",
        "if __name__ == \"__main__\":\n",
        "    game = Game()\n",
        "    game.start()\n"
      ]
    }
  ]
}